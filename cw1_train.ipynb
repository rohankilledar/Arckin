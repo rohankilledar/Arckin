{
  "nbformat": 4,
  "nbformat_minor": 0,
  "metadata": {
    "colab": {
      "name": "cw1-train.ipynb",
      "provenance": [],
      "collapsed_sections": [],
      "include_colab_link": true
    },
    "kernelspec": {
      "display_name": "Python 3",
      "language": "python",
      "name": "python3"
    },
    "language_info": {
      "codemirror_mode": {
        "name": "ipython",
        "version": 3
      },
      "file_extension": ".py",
      "mimetype": "text/x-python",
      "name": "python",
      "nbconvert_exporter": "python",
      "pygments_lexer": "ipython3",
      "version": "3.9.2+"
    }
  },
  "cells": [
    {
      "cell_type": "markdown",
      "metadata": {
        "id": "view-in-github",
        "colab_type": "text"
      },
      "source": [
        "<a href=\"https://colab.research.google.com/github/rohankilledar/Arckin/blob/master/cw1_train.ipynb\" target=\"_parent\"><img src=\"https://colab.research.google.com/assets/colab-badge.svg\" alt=\"Open In Colab\"/></a>"
      ]
    },
    {
      "cell_type": "markdown",
      "metadata": {
        "id": "5iNkoyd_p1dd"
      },
      "source": [
        "# Coursework 1: Train a Sentiment Analysis Classifier\n",
        "In this course work, you are asked to train a sentiment analysis classifier for movie reviews. The sample code below builds a simple classifier that uses tf-idf to vectorize text and a logistic regression model to make predictions."
      ]
    },
    {
      "cell_type": "markdown",
      "metadata": {
        "id": "wLgNa2rjp9Wq"
      },
      "source": [
        "# New Section"
      ]
    },
    {
      "cell_type": "code",
      "metadata": {
        "colab": {
          "base_uri": "https://localhost:8080/",
          "height": 222
        },
        "id": "zursStR4p1dh",
        "outputId": "235b5fae-7d47-4a53-f08a-9c35681e7da4"
      },
      "source": [
        "# load data and take a quick look\n",
        "\n",
        "from google.colab import drive\n",
        "drive.mount('/content/drive')\n",
        "\n",
        "import pandas as pd\n",
        "filepath='/content/drive/MyDrive/Royal Holloway AI/NLP/coursework1_train.csv'\n",
        "raw_data = pd.read_csv(filepath)\n",
        "\n",
        "raw_data.head()"
      ],
      "execution_count": 1,
      "outputs": [
        {
          "output_type": "stream",
          "text": [
            "Drive already mounted at /content/drive; to attempt to forcibly remount, call drive.mount(\"/content/drive\", force_remount=True).\n"
          ],
          "name": "stdout"
        },
        {
          "output_type": "execute_result",
          "data": {
            "text/html": [
              "<div>\n",
              "<style scoped>\n",
              "    .dataframe tbody tr th:only-of-type {\n",
              "        vertical-align: middle;\n",
              "    }\n",
              "\n",
              "    .dataframe tbody tr th {\n",
              "        vertical-align: top;\n",
              "    }\n",
              "\n",
              "    .dataframe thead th {\n",
              "        text-align: right;\n",
              "    }\n",
              "</style>\n",
              "<table border=\"1\" class=\"dataframe\">\n",
              "  <thead>\n",
              "    <tr style=\"text-align: right;\">\n",
              "      <th></th>\n",
              "      <th>Unnamed: 0</th>\n",
              "      <th>text</th>\n",
              "      <th>sentiment</th>\n",
              "    </tr>\n",
              "  </thead>\n",
              "  <tbody>\n",
              "    <tr>\n",
              "      <th>0</th>\n",
              "      <td>0</td>\n",
              "      <td>Enjoy the opening credits. They're the best th...</td>\n",
              "      <td>neg</td>\n",
              "    </tr>\n",
              "    <tr>\n",
              "      <th>1</th>\n",
              "      <td>1</td>\n",
              "      <td>Well, the Sci-Fi channel keeps churning these ...</td>\n",
              "      <td>neg</td>\n",
              "    </tr>\n",
              "    <tr>\n",
              "      <th>2</th>\n",
              "      <td>2</td>\n",
              "      <td>It takes guts to make a movie on Gandhi in Ind...</td>\n",
              "      <td>pos</td>\n",
              "    </tr>\n",
              "    <tr>\n",
              "      <th>3</th>\n",
              "      <td>3</td>\n",
              "      <td>The Nest is really just another 'nature run am...</td>\n",
              "      <td>neg</td>\n",
              "    </tr>\n",
              "    <tr>\n",
              "      <th>4</th>\n",
              "      <td>4</td>\n",
              "      <td>Waco: Rules of Engagement does a very good job...</td>\n",
              "      <td>pos</td>\n",
              "    </tr>\n",
              "  </tbody>\n",
              "</table>\n",
              "</div>"
            ],
            "text/plain": [
              "   Unnamed: 0                                               text sentiment\n",
              "0           0  Enjoy the opening credits. They're the best th...       neg\n",
              "1           1  Well, the Sci-Fi channel keeps churning these ...       neg\n",
              "2           2  It takes guts to make a movie on Gandhi in Ind...       pos\n",
              "3           3  The Nest is really just another 'nature run am...       neg\n",
              "4           4  Waco: Rules of Engagement does a very good job...       pos"
            ]
          },
          "metadata": {
            "tags": []
          },
          "execution_count": 1
        }
      ]
    },
    {
      "cell_type": "markdown",
      "metadata": {
        "id": "fuVV0jeLyxj4"
      },
      "source": [
        ""
      ]
    },
    {
      "cell_type": "code",
      "metadata": {
        "colab": {
          "base_uri": "https://localhost:8080/"
        },
        "id": "_HpvwNN_p1dk",
        "outputId": "32690182-8c8e-4d16-8aec-fe921b29ced5"
      },
      "source": [
        "# check the size of the data and its class distribution\n",
        "all_text = raw_data['text'].tolist()\n",
        "all_lables = raw_data['sentiment'].tolist()\n",
        "\n",
        "print('entry num', len(all_text))\n",
        "print('num of pos entries', len([l for l in all_lables if l=='pos']))\n",
        "print('num of neg entries', len([l for l in all_lables if l=='neg']))\n",
        "\n"
      ],
      "execution_count": 2,
      "outputs": [
        {
          "output_type": "stream",
          "text": [
            "entry num 40000\n",
            "num of pos entries 20000\n",
            "num of neg entries 20000\n"
          ],
          "name": "stdout"
        }
      ]
    },
    {
      "cell_type": "code",
      "metadata": {
        "id": "RmklTStEp1dl"
      },
      "source": [
        "# text cleaning and preprocessing:\n",
        "# This sample code does not perform any text normalization/pre-processing\n",
        "# Feel free to apply any pre-processing steps you find appropriate\n",
        "\n",
        "# Lower case all the text to avoid mismatch\n",
        "all_text = [words.lower() for words in all_text]\n",
        "\n",
        "#tokenizing the sentences into words using nltk word tokenizer \n",
        "import nltk\n",
        "#check if required resource is available or not and if not then install it.\n",
        "try:\n",
        "  nltk.data.find('tokenizers/punkt')\n",
        "except LookupError:\n",
        "  nltk.download('punkt')\n",
        "from nltk.tokenize import word_tokenize\n",
        "\n",
        "#list of tokenized words from the entire text list\n",
        "tokenized_sents = [word_tokenize(i) for i in all_text]\n"
      ],
      "execution_count": 3,
      "outputs": []
    },
    {
      "cell_type": "markdown",
      "metadata": {
        "id": "BqodNxg6ahJq"
      },
      "source": [
        "Now that we have tokenized the words, we can remove the stopwords and punctuation mark from them as they are not useful for computers/classifer"
      ]
    },
    {
      "cell_type": "code",
      "metadata": {
        "colab": {
          "base_uri": "https://localhost:8080/"
        },
        "id": "tWw-fEGxuFht",
        "outputId": "0a83da2f-91a7-4942-8aa9-0344a2d2e1d9"
      },
      "source": [
        "from nltk.corpus import stopwords\n",
        "import string\n",
        "nltk.download('stopwords')\n",
        "en_stopwords = stopwords.words('english')\n",
        "#adding some additional stopwords that we observed in text to list of stopwords \n",
        "new_stopwords = ['--','`',\"'\",'``', \"''\",\"'s\",'br','...',\"'re\"]\n",
        "en_stopwords.extend(new_stopwords)\n",
        "\n",
        "#clean text is a nested list of clean reviews \n",
        "clean_text = []\n",
        "\n",
        "for review in tokenized_sents:\n",
        "  tokenized_sents_wo_sw = [word for word in review if word not in en_stopwords and word not in string.punctuation]\n",
        "  clean_text.append(tokenized_sents_wo_sw)\n",
        "\n"
      ],
      "execution_count": 4,
      "outputs": [
        {
          "output_type": "stream",
          "text": [
            "[nltk_data] Downloading package stopwords to /root/nltk_data...\n",
            "[nltk_data]   Package stopwords is already up-to-date!\n"
          ],
          "name": "stdout"
        }
      ]
    },
    {
      "cell_type": "markdown",
      "metadata": {
        "id": "tRJFf_YprjoR"
      },
      "source": [
        "we can also lemmatize the words to find the basic form of word that means the same thing "
      ]
    },
    {
      "cell_type": "code",
      "metadata": {
        "id": "Ij_ak6Fppx8C"
      },
      "source": [
        "from nltk.stem import WordNetLemmatizer\n",
        "#check if required resource is available or not and if not then install it.\n",
        "try:\n",
        "  nltk.data.find('corpora/wordnet')\n",
        "except LookupError:\n",
        "  nltk.download('wordnet')  \n",
        "lemmatizer = WordNetLemmatizer()\n",
        "\n",
        "lemmatized_clean_text=[] \n",
        "#all clean text is a list of all the words from all the reviews\n",
        "all_clean_text = []\n",
        "\n",
        "for review in clean_text:\n",
        "  lemm = [lemmatizer.lemmatize(word) for word in review]\n",
        "  lemmatized_clean_text.append(lemm)\n",
        "  all_clean_text.extend(lemm)"
      ],
      "execution_count": 5,
      "outputs": []
    },
    {
      "cell_type": "markdown",
      "metadata": {
        "id": "xJGpnSpbMKCa"
      },
      "source": [
        "Let's make a function of this preprocessing of data for easier use later."
      ]
    },
    {
      "cell_type": "code",
      "metadata": {
        "id": "yy5w5UwAJdCX"
      },
      "source": [
        "def preprocessing(sentence, stopwords_list = en_stopwords, lemma = lemmatizer):\n",
        "  clean_word = []\n",
        "  for word in sentence:\n",
        "    word = word.lower()\n",
        "    if word not in stopwords_list and word not in string.punctuation:\n",
        "      clean_word.append(lemma.lemmatize(word))\n",
        "  return clean_word"
      ],
      "execution_count": 6,
      "outputs": []
    },
    {
      "cell_type": "code",
      "metadata": {
        "id": "qqwHxjcJKwEt"
      },
      "source": [
        "cw = preprocessing(tokenized_sents[0])"
      ],
      "execution_count": 7,
      "outputs": []
    },
    {
      "cell_type": "markdown",
      "metadata": {
        "id": "qz9VvbGS9nFb"
      },
      "source": [
        "Lets have a visual look at how our list of words look using wordcloud"
      ]
    },
    {
      "cell_type": "code",
      "metadata": {
        "id": "qct1bPBCq1i5",
        "colab": {
          "base_uri": "https://localhost:8080/",
          "height": 198
        },
        "outputId": "3189770a-97b3-4450-bb2a-ad861a7a748b"
      },
      "source": [
        "from wordcloud import WordCloud \n",
        "import matplotlib.pyplot as plt\n",
        "# Create and generate a word cloud image:\n",
        "wordcloud = WordCloud().generate((\" \").join(all_clean_text))\n",
        "\n",
        "# Display the generated image:\n",
        "plt.imshow(wordcloud, interpolation='bilinear')\n",
        "plt.axis(\"off\")\n",
        "plt.show()"
      ],
      "execution_count": 8,
      "outputs": [
        {
          "output_type": "display_data",
          "data": {
            "image/png": "[encoded data removed]",
            "text/plain": [
              "<Figure size 432x288 with 1 Axes>"
            ]
          },
          "metadata": {
            "tags": [],
            "needs_background": "light"
          }
        }
      ]
    },
    {
      "cell_type": "markdown",
      "metadata": {
        "id": "xt6TrSajafi0"
      },
      "source": [
        "now that we have the clean data, we can do some analysis of the data."
      ]
    },
    {
      "cell_type": "code",
      "metadata": {
        "id": "J8iyFXULmtYj",
        "colab": {
          "base_uri": "https://localhost:8080/"
        },
        "outputId": "5754b866-d143-48f2-9a5d-93abea6af595"
      },
      "source": [
        "from nltk import FreqDist\n",
        "# i figured some stopwords using this and removed them in the previous step, I think We can use this before removing stopwords to find more stopwords\n",
        "all_words_frequency = FreqDist(all_clean_text)\n",
        "all_words_frequency.most_common(15)\n"
      ],
      "execution_count": 9,
      "outputs": [
        {
          "output_type": "execute_result",
          "data": {
            "text/plain": [
              "[('movie', 79799),\n",
              " ('film', 72013),\n",
              " (\"n't\", 52853),\n",
              " ('one', 42759),\n",
              " ('like', 31990),\n",
              " ('time', 23573),\n",
              " ('good', 23136),\n",
              " ('character', 22269),\n",
              " ('would', 21191),\n",
              " ('even', 19788),\n",
              " ('story', 19443),\n",
              " ('get', 19434),\n",
              " ('see', 18849),\n",
              " ('make', 18749),\n",
              " ('really', 18348)]"
            ]
          },
          "metadata": {
            "tags": []
          },
          "execution_count": 9
        }
      ]
    },
    {
      "cell_type": "code",
      "metadata": {
        "id": "iG8rDPpOoaTd",
        "colab": {
          "base_uri": "https://localhost:8080/"
        },
        "outputId": "5026e248-3c50-4011-f2b2-efeeba1a7ef1"
      },
      "source": [
        "print(\"Total number of unique words: \"+ str(len(all_words_frequency)))\n",
        "# get 2000 frequently occuring words\n",
        "most_common_words = all_words_frequency.most_common(2000)\n",
        "word_features = [item[0] for item in most_common_words]\n",
        "print (word_features[:10])"
      ],
      "execution_count": 10,
      "outputs": [
        {
          "output_type": "stream",
          "text": [
            "Total number of unique words: 140129\n",
            "['movie', 'film', \"n't\", 'one', 'like', 'time', 'good', 'character', 'would', 'even']\n"
          ],
          "name": "stdout"
        }
      ]
    },
    {
      "cell_type": "markdown",
      "metadata": {
        "id": "3ryTwzGS50mR"
      },
      "source": [
        "lets use bag of words to create feature set for our Naive Bayese classifier"
      ]
    },
    {
      "cell_type": "markdown",
      "metadata": {
        "id": "GPHVUw4FL3q1"
      },
      "source": [
        ""
      ]
    },
    {
      "cell_type": "code",
      "metadata": {
        "id": "W7-q3QZKqq0j"
      },
      "source": [
        "from nltk import ngrams\n",
        "\n",
        "# feature extractor function for unigram\n",
        "def bag_of_words(words):\t\n",
        "\twords_dictionary = dict([word, True] for word in words)\t\n",
        "\treturn words_dictionary\n",
        "\n",
        "\n",
        "#when using bi-grams, there are some stopwords that makes sense in a sentence in context to other words like \"It was a very good movie\"\n",
        "#stopword 'very' is important for bigram so lets use a different set of stopwords for bigram\n",
        "\n",
        "en_stopwords_for_bigram = set(en_stopwords) - {'very','over','under','above','below','more','less','no','nor','not','never','only'}\n",
        "\n",
        "# feature extractor function for ngrams (unigram)\n",
        "def bag_of_ngrams(words, n=2):\n",
        "\twords_ng = []\n",
        "\tfor item in iter(ngrams(words, n)):\n",
        "\t\twords_ng.append(item)\n",
        "\twords_dictionary = dict([word, True] for word in words_ng)\t\n",
        "\treturn words_dictionary\n",
        "\n",
        " #  let's define a new function that extracts all features\n",
        "# i.e. that extracts both unigram and bigrams features\n",
        "def bag_of_all_words(words, n=2):\n",
        "\twords_clean = preprocessing(words, en_stopwords)\n",
        "\twords_clean_for_bigrams = preprocessing(words, en_stopwords_for_bigram)\n",
        "\n",
        "\tunigram_features = bag_of_words(words_clean)\n",
        "\tbigram_features = bag_of_ngrams(words_clean_for_bigrams)\n",
        "\n",
        "\tall_features = unigram_features.copy()\n",
        "\tall_features.update(bigram_features)\n",
        "\n",
        "\treturn all_features"
      ],
      "execution_count": 11,
      "outputs": []
    },
    {
      "cell_type": "code",
      "metadata": {
        "id": "rAPbF3BbXpKT"
      },
      "source": [
        "# bag_of_words(preprocessing(tokenized_sents[0]))\n",
        "# bag_of_ngrams(preprocessing(tokenized_sents[0]))\n",
        "# bag_of_all_words(preprocessing(tokenized_sents[0]))"
      ],
      "execution_count": 12,
      "outputs": []
    },
    {
      "cell_type": "code",
      "metadata": {
        "id": "AlYR6AzdC0IJ"
      },
      "source": [
        "pos_r = raw_data.loc[raw_data['sentiment'] == 'pos']\n",
        "pos_review=pos_r['text'].tolist()\n",
        "\n",
        "neg_r = raw_data.loc[raw_data['sentiment'] == 'neg']\n",
        "neg_review=neg_r['text'].tolist()\n",
        "\n"
      ],
      "execution_count": 13,
      "outputs": []
    },
    {
      "cell_type": "code",
      "metadata": {
        "id": "5mK-ukjUqrYw"
      },
      "source": [
        "# positive reviews feature set\n",
        "pos_review_set = []\n",
        "for words in pos_review:\n",
        "\tpos_review_set.append((bag_of_all_words(word_tokenize(words.replace(\".\", \" \"))), 'pos'))\n",
        " \n",
        " #after tokenizing and preprocessing data, I figured the .(dot) is not getting tokenized \n",
        " #and joining few words like watch.brilliant and wrong.this\n",
        "\n",
        "# # negative reviews feature set\n",
        "neg_review_set = []\n",
        "for words in neg_review:\n",
        "\tneg_review_set.append((bag_of_all_words(word_tokenize(words.replace(\".\",\" \"))), 'neg'))"
      ],
      "execution_count": 14,
      "outputs": []
    },
    {
      "cell_type": "markdown",
      "metadata": {
        "id": "C0g81CqAL6iF"
      },
      "source": [
        "We have 20000 positive and 20000 negative review each. We can divide them in the ratio of 70:30 for training and testing dataset."
      ]
    },
    {
      "cell_type": "code",
      "metadata": {
        "id": "Zv1Ngzsz8HUW"
      },
      "source": [
        "train_set = pos_review_set[:14000] + neg_review_set[:14000]\n",
        "test_set = pos_review_set[14000:] + neg_review_set[14000:]"
      ],
      "execution_count": 15,
      "outputs": []
    },
    {
      "cell_type": "markdown",
      "metadata": {
        "id": "l8-RdWjcMrbp"
      },
      "source": [
        "Now that we have our training and test set of all positive and negative feature set, we can apply classifier to it"
      ]
    },
    {
      "cell_type": "code",
      "metadata": {
        "id": "vciiPQWKac-j",
        "colab": {
          "base_uri": "https://localhost:8080/"
        },
        "outputId": "d3aac9ed-153f-4fb8-f5da-faed2ef978f6"
      },
      "source": [
        "from nltk import classify\n",
        "from nltk import NaiveBayesClassifier\n",
        "import nltk.metrics as met\n",
        "\n",
        "#initializing the classifier object\n",
        "NBclassifier = NaiveBayesClassifier.train(train_set)\n",
        "\n",
        "accuracy = classify.accuracy(NBclassifier,test_set)\n",
        "print(\"acc \"+ str(accuracy))\n",
        "\n",
        "#we can check the most informative features that the classifier determined to label the test set\n",
        "print(NBclassifier.show_most_informative_features(10))\n"
      ],
      "execution_count": 17,
      "outputs": [
        {
          "output_type": "stream",
          "text": [
            "acc 0.88675\n",
            "Most Informative Features\n",
            "   ('movie', 'horrible') = True              neg : pos    =     52.3 : 1.0\n",
            "  ('acting', 'horrible') = True              neg : pos    =     48.3 : 1.0\n",
            "   ('possibly', 'worst') = True              neg : pos    =     47.0 : 1.0\n",
            "      ('worst', 'movie') = True              neg : pos    =     43.1 : 1.0\n",
            "      ('total', 'waste') = True              neg : pos    =     40.3 : 1.0\n",
            "   ('terrible', 'movie') = True              neg : pos    =     40.2 : 1.0\n",
            "       ('avoid', 'cost') = True              neg : pos    =     39.4 : 1.0\n",
            "                    boll = True              neg : pos    =     38.3 : 1.0\n",
            "                    3/10 = True              neg : pos    =     37.9 : 1.0\n",
            "                    7/10 = True              pos : neg    =     36.8 : 1.0\n",
            "None\n"
          ],
          "name": "stdout"
        }
      ]
    },
    {
      "cell_type": "markdown",
      "metadata": {
        "id": "2l2QeyuVcH6w"
      },
      "source": [
        "Let's test our classifier using some custom reviews"
      ]
    },
    {
      "cell_type": "code",
      "metadata": {
        "colab": {
          "base_uri": "https://localhost:8080/"
        },
        "id": "udoiXNKZYjLd",
        "outputId": "cc955d04-1695-4d54-8b58-76ad2b224833"
      },
      "source": [
        "#test_review = word_tokenize(neg_review[5].replace(\".\",\" \"))\n",
        "custom_review1 = \"Captain America getting Thor's hammer was the highlight of the movie and it was shocking and surprising\"\n",
        "test_review1 = word_tokenize(custom_review1)\n",
        "test_review_set1 = bag_of_all_words(test_review1)\n",
        "print(\"Custom Review1: \"+custom_review1)\n",
        "print(NBclassifier.classify(test_review_set1))\n",
        "\n",
        "#custom_review2 = \" the movie was a bit off and too obvious\"\n",
        "#custom_review2= test_text[7]\n",
        "custom_review2=\"I was not able to take off my eyes all the time. It kept me hooked for a long time. I was also googling things about it after it was over\"\n",
        "test_review2 = word_tokenize(custom_review2)\n",
        "test_review_set2 = bag_of_all_words(test_review2)\n",
        "print(\"Custom Review2: \"+custom_review2)\n",
        "print(NBclassifier.classify(test_review_set2))"
      ],
      "execution_count": 35,
      "outputs": [
        {
          "output_type": "stream",
          "text": [
            "Custom Review1: Captain America getting Thor's hammer was the highlight of the movie and it was shocking and surprising\n",
            "pos\n",
            "Custom Review2: what's inexplicable? firstly, the hatred towards this movie. it may not be the greatest movie of all time, but gimme a break, it got 11 oscars for a reason, it made eighteen hundred million dollars for a reason. it's a damn good movie. which brings to the other inexplicable aspect of it. i have no idea whatsoever why this movie left such an impression on me when i saw it in theaters. i've rewatched it on tv and video, and it had none of the impact it had when i saw it on the big screen (twice, or maybe three times, actually). but that might be it, the appeal of it. it's a movie, yes, capital m there, it's an epic, it's a spectacle in the order of gone with the wind or ben hur. now, ben hur and gone with the wind seem kinda hokey to me, with the hammy acting and excessive melodrama. not that titanic has none of that. well, the acting was actually very good. the melodrama was quite heavy-handed at times.<br /><br />but the reason titanic works is that it's such an emotional ride. i usually enjoy movies that stimulate the mind, or give me a visual thrill. this movie isn't exactly dumb, but it's not cerebral at all. the visual thrills are simply means to an end, to fuel the emotions of the audience. i didn't cry when bambi's mom died, i don't react to tearjerkers. but this is a tearjerker to the power of ten million, an emotional rollercoaster that, if it were a regular one, would make buzz aldrin scream like a little girl. and i'm sure that if you see it on video and have decided that you hate it, and have a ready supply of cynicism, then you can thoroughly dislike this movie. but if you let that disbelief suspend just a bit, if you give this epic melodrama the benefit of the doubt, you'll enjoy it completely. and look at the top ten grossing films of all time. is a single one of them bad? is a single one of them worth a score of 1 out of 10? no, not even the phantom menace. and this movie made 1.8 billion dollars worldwide. it can't be bad. not possible. 10/10.<br /><br />p.s. how can anyone even consider comparing this to spiderman? spiderman was a fun movie, but it was a total 9/11 kneejerk that caused it to gross as much as it did. it simply wasn't anything all that special. no one will remember it in 50 years. but i'm pretty sure titanic will be remembered.\n",
            "neg\n"
          ],
          "name": "stdout"
        }
      ]
    },
    {
      "cell_type": "markdown",
      "metadata": {
        "id": "zRJgAiyrZAgP"
      },
      "source": [
        "When the classifier was trained using unigram features the accuracy was less compared to the combined feature set.\n"
      ]
    },
    {
      "cell_type": "code",
      "metadata": {
        "id": "lKzOnACFp1dl"
      },
      "source": [
        "# data split. \n",
        "# Feel free to use differnt ratios or strategies to split the data.\n",
        "train_text = all_text[:35000]\n",
        "train_labels = all_lables[:35000]\n",
        "test_text = all_text[35000:]\n",
        "test_labels = all_lables[35000:]"
      ],
      "execution_count": 19,
      "outputs": []
    },
    {
      "cell_type": "code",
      "metadata": {
        "id": "CbmtQIrVp1dm",
        "colab": {
          "base_uri": "https://localhost:8080/"
        },
        "outputId": "4600c4d4-46a9-4f01-b78b-7fe1dde1315a"
      },
      "source": [
        "# training: tf-idf + logistic regression\n",
        "# you should explore different representations and algorithms.\n",
        "from sklearn.feature_extraction.text import TfidfVectorizer\n",
        "max_feature_num = 1000\n",
        "train_vectorizer = TfidfVectorizer(max_features=max_feature_num)\n",
        "train_vecs = train_vectorizer.fit_transform(train_text)\n",
        "test_vecs = TfidfVectorizer(max_features=max_feature_num,vocabulary=train_vectorizer.vocabulary_).fit_transform(test_text)\n",
        "\n",
        "# train model\n",
        "from sklearn.linear_model import LogisticRegression\n",
        "clf = LogisticRegression().fit(train_vecs, train_labels)\n",
        "\n",
        "# test model\n",
        "test_pred = clf.predict(test_vecs)\n",
        "from sklearn.metrics import precision_recall_fscore_support,accuracy_score\n",
        "acc = accuracy_score(test_labels, test_pred)\n",
        "pre, rec, f1, _ = precision_recall_fscore_support(test_labels, test_pred, average='macro')\n",
        "print('acc', acc)\n",
        "print('precision', pre)\n",
        "print('rec', rec)\n",
        "print('f1', f1)"
      ],
      "execution_count": 20,
      "outputs": [
        {
          "output_type": "stream",
          "text": [
            "acc 0.8616\n",
            "precision 0.8616043455692743\n",
            "rec 0.8615913854621674\n",
            "f1 0.8615956596398864\n"
          ],
          "name": "stdout"
        }
      ]
    },
    {
      "cell_type": "markdown",
      "metadata": {
        "id": "j07Cifztp1do"
      },
      "source": [
        "## SAVE YOUR TRAINED MODEL\n",
        "After you have found the best model, save your trained model and other necessary components (e.g. vocabulary, vectorizer) to a file. We will load your model from the saved file and apply your trained model on some held-out test data. **At submission time, you should submit the saved model file and we will NOT re-run your code to train your model; instead, we will directly use your trained model to run test (see notebook *cw1-test.ipynb*)**. \n",
        "\n",
        "Below is a sample code for saving the model (and other necessary components) obtained above, using the *pickle* package in Python. *You should adjust the code to save all the necessary components for re-running your model!*"
      ]
    },
    {
      "cell_type": "code",
      "metadata": {
        "id": "EI73RnEWp1do"
      },
      "source": [
        "import pickle\n",
        "\n",
        "# save model and other necessary modules\n",
        "all_info_want_to_save = {\n",
        "    'model': clf,\n",
        "    'vectorizer': TfidfVectorizer(max_features=max_feature_num,vocabulary=train_vectorizer.vocabulary_),\n",
        "    'classifier': NBclassifier,\n",
        "    'pos_feature_set': pos_review_set,\n",
        "    'neg_feature_set': neg_review_set\n",
        "}\n",
        "\n",
        "with open(\"sample_trained_model.pickle\",\"wb\") as save_path:\n",
        "    pickle.dump(all_info_want_to_save, save_path)"
      ],
      "execution_count": 36,
      "outputs": []
    },
    {
      "cell_type": "markdown",
      "metadata": {
        "id": "6CbXVcVxp1dp"
      },
      "source": [
        "In *cw1-test.ipynb*, we provide a sample code to illustrate how to re-load your saved model and apply it to some test data. "
      ]
    }
  ]
}